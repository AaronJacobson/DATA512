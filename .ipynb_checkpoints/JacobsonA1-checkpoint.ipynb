{
 "cells": [
  {
   "cell_type": "code",
   "execution_count": 103,
   "id": "dependent-redhead",
   "metadata": {},
   "outputs": [],
   "source": [
    "import json\n",
    "import requests\n",
    "from dateutil.relativedelta import relativedelta\n",
    "import csv"
   ]
  },
  {
   "cell_type": "code",
   "execution_count": 104,
   "id": "statutory-lyric",
   "metadata": {},
   "outputs": [],
   "source": [
    "endpoint_legacy = 'https://wikimedia.org/api/rest_v1/metrics/legacy/pagecounts/aggregate/{project}/{access-site}/{granularity}/{start}/{end}'\n",
    "endpoint_modern = 'https://wikimedia.org/api/rest_v1/metrics/pageviews/aggregate/{project}/{access}/{agent}/{granularity}/{start}/{end}'\n",
    "headers = {\n",
    "    'User-Agent': 'https://github.com/AaronJacobson',\n",
    "    'From': 'aaronlj@uw.edu'\n",
    "}"
   ]
  },
  {
   "cell_type": "code",
   "execution_count": 105,
   "id": "coordinate-singing",
   "metadata": {},
   "outputs": [],
   "source": [
    "def api_call(endpoint,parameters):\n",
    "    call = requests.get(endpoint.format(**parameters), headers=headers)\n",
    "    response = call.json()\n",
    "    \n",
    "    return response\n",
    "\n",
    "def get_monthly_legacy(query_type):\n",
    "    params_legacy = {\n",
    "        \"project\" : \"en.wikipedia.org\",\n",
    "        \"access-site\" : query_type,\n",
    "        \"granularity\" : \"monthly\",\n",
    "        \"start\" : \"2007123100\",\n",
    "        \"end\" : \"2016070100\"\n",
    "    }\n",
    "    return api_call(endpoint_legacy, example_params_legacy)   \n",
    "\n",
    "def get_monthly_modern(query_type):\n",
    "    params_modern = {\n",
    "        \"project\" : \"en.wikipedia.org\",\n",
    "        \"access\" : \"desktop\",\n",
    "        \"agent\" : \"user\",\n",
    "        \"granularity\" : \"monthly\",\n",
    "        \"start\" : \"2015070100\",\n",
    "        \"end\" : \"2021091000\"\n",
    "    }\n",
    "    return api_call(endpoint_modern, params_modern)"
   ]
  },
  {
   "cell_type": "code",
   "execution_count": 106,
   "id": "removed-monkey",
   "metadata": {},
   "outputs": [],
   "source": [
    "legacy_access_types = ['desktop-site', 'mobile-site']\n",
    "modern_access_types = ['desktop', 'mobile-app', 'mobile-web']\n",
    "\n",
    "output_folder_prefix = \"C:\\\\Users\\\\AaronJacobsonDesk3\\\\Documents\\\\UWMSDS\\\\Classes\\\\Fall2021\\\\DATA512\\\\DATA512\\\\DATA512\\\\\"\n",
    "\n",
    "legacy_desktop_filepath = output_folder_prefix + \"legacy_desktop-site_2007123100-2016070100.json\"\n",
    "legacy_mobile_filepath = output_folder_prefix + \"legacy_mobile-site_2007123100-2016070100.json\"\n",
    "modern_desktop_filepath = output_folder_prefix + \"pageviews_desktop_2015070100-2021091000.json\"\n",
    "modern_mobileapp_filepath = output_folder_prefix + \"pageviews_mobile-app_2015070100-2021091000.json\"\n",
    "modern_mobileweb_filepath = output_folder_prefix + \"pageviews_mobile-web_2015070100-2021091000.json\"\n",
    "\n",
    "with open(legacy_desktop_filepath, 'w') as ldf:\n",
    "    json.dump(get_monthly_legacy(legacy_access_types[0]), ldf)\n",
    "with open(legacy_mobile_filepath, 'w') as lmf:\n",
    "    json.dump(get_monthly_legacy(legacy_access_types[1]), lmf)\n",
    "with open(modern_desktop_filepath, 'w') as mdf:\n",
    "    json.dump(get_monthly_modern(modern_access_types[0]), mdf)\n",
    "with open(modern_mobileapp_filepath, 'w') as mmaf:\n",
    "    json.dump(get_monthly_modern(modern_access_types[1]), mmaf)\n",
    "with open(modern_mobileweb_filepath, 'w') as mmwf:\n",
    "    json.dump(get_monthly_modern(modern_access_types[2]), mmwf)"
   ]
  },
  {
   "cell_type": "code",
   "execution_count": 107,
   "id": "color-explorer",
   "metadata": {},
   "outputs": [],
   "source": [
    "legacy_desktop_data = None\n",
    "legacy_mobile_data = None\n",
    "modern_desktop_data = None\n",
    "modern_mobileapp_data = None\n",
    "modern_mobileweb_data = None\n",
    "\n",
    "with open(legacy_desktop_filepath) as f:\n",
    "    legacy_desktop_data = json.load(f)\n",
    "with open(legacy_mobile_filepath) as f:\n",
    "    legacy_mobile_data = json.load(f)\n",
    "with open(modern_desktop_filepath) as f:\n",
    "    modern_desktop_data = json.load(f)\n",
    "with open(modern_mobileapp_filepath) as f:\n",
    "    modern_mobileapp_data = json.load(f)\n",
    "with open(modern_mobileweb_filepath) as f:\n",
    "    modern_mobileweb_data = json.load(f)"
   ]
  },
  {
   "cell_type": "code",
   "execution_count": 108,
   "id": "parliamentary-cargo",
   "metadata": {},
   "outputs": [],
   "source": [
    "def timestamp_data(dict_to_format):\n",
    "    output_dict = {}\n",
    "    for entry in dict_to_format:\n",
    "        output_dict[entry['timestamp']] = entry\n",
    "    return output_dict"
   ]
  },
  {
   "cell_type": "code",
   "execution_count": 109,
   "id": "rising-catalog",
   "metadata": {},
   "outputs": [],
   "source": [
    "legacy_desktop_data = timestamp_data(legacy_desktop_data['items'])\n",
    "legacy_mobile_data = timestamp_data(legacy_mobile_data['items'])\n",
    "modern_desktop_data = timestamp_data(modern_desktop_data['items'])\n",
    "modern_mobileapp_data = timestamp_data(modern_mobileapp_data['items'])\n",
    "modern_mobileweb_data = timestamp_data(modern_mobileweb_data['items'])"
   ]
  },
  {
   "cell_type": "code",
   "execution_count": null,
   "id": "intelligent-technique",
   "metadata": {},
   "outputs": [],
   "source": []
  },
  {
   "cell_type": "code",
   "execution_count": 110,
   "id": "surrounded-juice",
   "metadata": {},
   "outputs": [],
   "source": [
    "data_date = datetime.datetime(year=2007, month=12, day=1)\n",
    "end_date = datetime.datetime(year=2021, month=9, day=1)\n",
    "month_increment = relativedelta(months=1)"
   ]
  },
  {
   "cell_type": "code",
   "execution_count": 112,
   "id": "revolutionary-treatment",
   "metadata": {},
   "outputs": [],
   "source": [
    "output_rows = []\n",
    "header = ['year',\n",
    "                    'month',\n",
    "                    'pagecount_all_views',\n",
    "                    'pagecount_desktop_views',\n",
    "                    'pagecount_mobile_views',\n",
    "                    'pageview_all_views',\n",
    "                    'pageview_desktop_views',\n",
    "                    'pageview_mobile_views']\n",
    "\n",
    "data_output_filepath = output_folder_prefix + \"en-wikipedia_traffic_200712-202108.csv\"\n",
    "\n",
    "with open(data_output_filepath, 'w', newline='') as data_out:\n",
    "    writer = csv.writer(data_out, delimiter=',')\n",
    "    writer.writerow(header)\n",
    "    \n",
    "    while data_date != end_date:\n",
    "        string_date = data_date.strftime(\"%Y%m%d%H\")\n",
    "        pagecount_desktop = 0\n",
    "        pagecount_mobile = 0\n",
    "        pagecount_total = 0\n",
    "        pageview_desktop = 0\n",
    "        pageview_mobileapp = 0\n",
    "        pageview_mobileweb = 0\n",
    "        pageview_mobile = 0\n",
    "        pageview_total = 0\n",
    "\n",
    "        if string_date in legacy_desktop_data:\n",
    "            pagecount_desktop = legacy_desktop_data[string_date]['count']\n",
    "        if string_date in legacy_mobile_data:\n",
    "            pagecount_mobile = legacy_mobile_data[string_date]['count']\n",
    "        pagecount_total = pagecount_desktop + pagecount_mobile\n",
    "\n",
    "        if string_date in modern_desktop_data:\n",
    "            pageview_desktop = modern_desktop_data[string_date]['views']\n",
    "        if string_date in modern_mobileapp_data:\n",
    "            pageview_mobileapp = modern_mobileapp_data[string_date]['views']\n",
    "        if string_date in modern_mobileweb_data:\n",
    "            pageview_mobileweb = modern_mobileweb_data[string_date]['views']\n",
    "        pageview_mobile = pageview_mobileapp + pageview_mobileweb\n",
    "\n",
    "        pageview_total = pageview_desktop + pageview_mobile\n",
    "\n",
    "        writer.writerow([\n",
    "            data_date.year,\n",
    "            data_date.month,\n",
    "            pagecount_total,\n",
    "            pagecount_desktop,\n",
    "            pagecount_mobile,\n",
    "            pageview_total,\n",
    "            pageview_desktop,\n",
    "            pageview_mobile]\n",
    "        )\n",
    "        data_date = data_date + month_increment\n"
   ]
  },
  {
   "cell_type": "code",
   "execution_count": null,
   "id": "drawn-satellite",
   "metadata": {},
   "outputs": [],
   "source": [
    "legacy_desktop_data[data_date.strftime(\"%Y%m%d%H\")]['count']"
   ]
  },
  {
   "cell_type": "code",
   "execution_count": null,
   "id": "exclusive-cemetery",
   "metadata": {},
   "outputs": [],
   "source": [
    "end_date.strftime(\"%Y%m%d%H\")"
   ]
  },
  {
   "cell_type": "code",
   "execution_count": null,
   "id": "hundred-secondary",
   "metadata": {},
   "outputs": [],
   "source": []
  }
 ],
 "metadata": {
  "kernelspec": {
   "display_name": "Python [conda env:.conda-DATA558] *",
   "language": "python",
   "name": "conda-env-.conda-DATA558-py"
  },
  "language_info": {
   "codemirror_mode": {
    "name": "ipython",
    "version": 3
   },
   "file_extension": ".py",
   "mimetype": "text/x-python",
   "name": "python",
   "nbconvert_exporter": "python",
   "pygments_lexer": "ipython3",
   "version": "3.7.10"
  }
 },
 "nbformat": 4,
 "nbformat_minor": 5
}
