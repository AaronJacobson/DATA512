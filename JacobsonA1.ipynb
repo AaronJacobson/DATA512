{
 "cells": [
  {
   "cell_type": "code",
   "execution_count": 22,
   "id": "dependent-redhead",
   "metadata": {},
   "outputs": [],
   "source": [
    "import json\n",
    "import requests"
   ]
  },
  {
   "cell_type": "code",
   "execution_count": 23,
   "id": "statutory-lyric",
   "metadata": {},
   "outputs": [],
   "source": [
    "endpoint_legacy = 'https://wikimedia.org/api/rest_v1/metrics/legacy/pagecounts/aggregate/{project}/{access-site}/{granularity}/{start}/{end}'\n",
    "endpoint_modern = 'https://wikimedia.org/api/rest_v1/metrics/pageviews/aggregate/{project}/{access}/{agent}/{granularity}/{start}/{end}'\n",
    "headers = {\n",
    "    'User-Agent': 'https://github.com/AaronJacobson',\n",
    "    'From': 'aaronlj@uw.edu'\n",
    "}"
   ]
  },
  {
   "cell_type": "code",
   "execution_count": 26,
   "id": "continuous-mongolia",
   "metadata": {},
   "outputs": [],
   "source": [
    "def api_call(endpoint,parameters):\n",
    "    call = requests.get(endpoint.format(**parameters), headers=headers)\n",
    "    response = call.json()\n",
    "    \n",
    "    return response\n",
    "\n",
    "def get_monthly_legacy(query_type):\n",
    "    params_legacy = {\n",
    "        \"project\" : \"en.wikipedia.org\",\n",
    "        \"access-site\" : query_type,\n",
    "        \"granularity\" : \"monthly\",\n",
    "        \"start\" : \"2007123100\",\n",
    "        \"end\" : \"2016070100\"\n",
    "    }\n",
    "    return api_call(endpoint_legacy, example_params_legacy)   \n",
    "\n",
    "def get_monthly_modern(query_type):\n",
    "    params_modern = {\n",
    "        \"project\" : \"en.wikipedia.org\",\n",
    "        \"access\" : \"desktop\",\n",
    "        \"agent\" : \"user\",\n",
    "        \"granularity\" : \"monthly\",\n",
    "        \"start\" : \"2015070100\",\n",
    "        \"end\" : \"2021091000\"\n",
    "    }\n",
    "    return api_call(endpoint_modern, params_modern)"
   ]
  },
  {
   "cell_type": "code",
   "execution_count": 27,
   "id": "civic-toner",
   "metadata": {},
   "outputs": [],
   "source": [
    "legacy_access_types = ['desktop-site', 'mobile-site']\n",
    "modern_access_types = ['desktop', 'mobile-app', 'mobile-web']\n",
    "\n",
    "output_folder_prefix = \"C:\\\\Users\\\\AaronJacobsonDesk3\\\\Documents\\\\UWMSDS\\\\Classes\\\\Fall2021\\\\DATA512\\\\DATA512\\\\DATA512\\\\\"\n",
    "\n",
    "legacy_desktop_filepath = output_folder_prefix + \"legacy_desktop-site_2007123100-2016070100.json\"\n",
    "legacy_mobile_filepath = output_folder_prefix + \"legacy_mobile-site_2007123100-2016070100.json\"\n",
    "modern_desktop_filepath = output_folder_prefix + \"pageviews_desktop_2015070100-2021091000.json\"\n",
    "modern_mobileapp_filepath = output_folder_prefix + \"pageviews_mobile-app_2015070100-2021091000.json\"\n",
    "modern_mobileweb_filepath = output_folder_prefix + \"pageviews_mobile-web_2015070100-2021091000.json\"\n",
    "\n",
    "with open(legacy_desktop_filepath, 'w') as ldf:\n",
    "    json.dump(get_monthly_legacy(legacy_access_types[0]), ldf)\n",
    "with open(legacy_mobile_filepath, 'w') as lmf:\n",
    "    json.dump(get_monthly_legacy(legacy_access_types[1]), lmf)\n",
    "with open(modern_desktop_filepath, 'w') as mdf:\n",
    "    json.dump(get_monthly_modern(modern_access_types[0]), mdf)\n",
    "with open(modern_mobileapp_filepath, 'w') as mmaf:\n",
    "    json.dump(get_monthly_modern(modern_access_types[1]), mmaf)\n",
    "with open(modern_mobileweb_filepath, 'w') as mmwf:\n",
    "    json.dump(get_monthly_modern(modern_access_types[2]), mmwf)"
   ]
  },
  {
   "cell_type": "code",
   "execution_count": null,
   "id": "proof-payroll",
   "metadata": {},
   "outputs": [],
   "source": []
  },
  {
   "cell_type": "code",
   "execution_count": null,
   "id": "dangerous-friendly",
   "metadata": {},
   "outputs": [],
   "source": []
  },
  {
   "cell_type": "code",
   "execution_count": null,
   "id": "responsible-investor",
   "metadata": {},
   "outputs": [],
   "source": []
  },
  {
   "cell_type": "code",
   "execution_count": null,
   "id": "thick-income",
   "metadata": {},
   "outputs": [],
   "source": []
  },
  {
   "cell_type": "code",
   "execution_count": null,
   "id": "harmful-somalia",
   "metadata": {},
   "outputs": [],
   "source": []
  },
  {
   "cell_type": "code",
   "execution_count": null,
   "id": "indirect-hearing",
   "metadata": {},
   "outputs": [],
   "source": []
  },
  {
   "cell_type": "code",
   "execution_count": null,
   "id": "saved-stationery",
   "metadata": {},
   "outputs": [],
   "source": []
  }
 ],
 "metadata": {
  "kernelspec": {
   "display_name": "Python [conda env:.conda-DATA558] *",
   "language": "python",
   "name": "conda-env-.conda-DATA558-py"
  },
  "language_info": {
   "codemirror_mode": {
    "name": "ipython",
    "version": 3
   },
   "file_extension": ".py",
   "mimetype": "text/x-python",
   "name": "python",
   "nbconvert_exporter": "python",
   "pygments_lexer": "ipython3",
   "version": "3.7.10"
  }
 },
 "nbformat": 4,
 "nbformat_minor": 5
}
